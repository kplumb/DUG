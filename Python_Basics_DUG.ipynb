{
 "cells": [
  {
   "cell_type": "markdown",
   "metadata": {},
   "source": [
    "#  Jupyter Notebook and Python Basics\n",
    "\n",
    "**PHYS DUG, Programming workshop\n",
    "Modified from PHYS 1600 intro to Python Notebook**\n",
    "____\n",
    "\n",
    "**Below is a simple introduction to Python through the Jupyter Notebook interface**\n",
    "\n",
    "There are a number of exercises for you to complete dispersed throughout this notebook. These are listed below:\n",
    "\n",
    "* [Exercise 1](#E1): Python Lists.\n",
    "* [Exercise 2](#E2): NumPy arrays.\n",
    "* [Exercise 3](#E3): Loading data , multidimensional NumPy arrays.\n",
    "* [Exercise 4](#E4): Numpy array functions.\n",
    "* [Exercise 6](#E5): Plotting data.\n",
    "* [Curve fitting, linear regression](#E6)"
   ]
  },
  {
   "cell_type": "markdown",
   "metadata": {},
   "source": [
    "\n",
    "## Notebook Structure\n",
    "\n",
    "A Jupyter notebook is a great way to learn python. It is especially useful for data analysis in physics as it is easy to include code, written explanations and plots all in a single notebook file. The notebook is simple to convert to an old style python script. Or, if you want a hard copy, it is even easy to download a notebook file as a single pdf document, which is compiled using $\\LaTeX$.  So we can learn some of the basics of $\\LaTeX$ while doing python !!\n",
    "\n",
    "To begin, it's best to go over the basics of how a notebook works. \n",
    "\n",
    "If you do not see the toolbar at the top of the screen click **View** and then **Toggle Toolbar**.\n",
    "\n",
    "A notebook is divided up into many different **cells**. Some of the cells have regular text (like this one), but most of them are filled in with code like the one below.  The cells filled with code are an interface to a powerful python environment called the **ipython shell**. Try clicking on the cell below and press shift+enter.\n"
   ]
  },
  {
   "cell_type": "code",
   "execution_count": null,
   "metadata": {},
   "outputs": [],
   "source": [
    "print(\"Hello World\")"
   ]
  },
  {
   "cell_type": "markdown",
   "metadata": {},
   "source": [
    "* Pressing shift+enter will evaluate the cell. \n",
    "* To create a new cell: click on the + icon in the top of the toolbar, or Alt+enter (Windows/Linux) option+enter(MacOs) from within a cell. \n",
    "* Once you create the cell, you can move it's location with the up and down arrows on the toolbar. \n",
    "* To create a text field, like this one here, go to the drop down menu and change the newly created cell from Code to Markdown.\n",
    "\n",
    "Try creating a new cell below this one and run the same python command below."
   ]
  },
  {
   "cell_type": "markdown",
   "metadata": {},
   "source": [
    "### Markdown text\n",
    "You can bold to markdown text by surrounding a word with double \\*'s. e.g. \\*\\*Bold\\*\\* is evaluated to **Bold**.\n",
    "You can also create a header by starting a line with \\#. More \\#'s produce a smaller header. For example:\n",
    "\n",
    "Create section headers using the \\# symbol. The number of \\#'s defines the nesting level of the header i.e. \\#\\# This will evaluate to a sub header\n",
    "\n",
    "## This\n",
    "\n",
    "\n",
    "#### Math in Markdown\n",
    "\n",
    "Mathematical symbols can be included in markdown text using standard $\\LaTeX$ syntax, for example: \n",
    "$$\\int x^2 dx = 1/3x^3$$\n",
    "\n",
    "\n",
    "You can also double click on markdown text to see the hidden code behind it. Use the content of this notebook to learn more about markdown.\n"
   ]
  },
  {
   "cell_type": "markdown",
   "metadata": {},
   "source": [
    "# Python Basics\n",
    "___"
   ]
  },
  {
   "cell_type": "markdown",
   "metadata": {},
   "source": [
    "## Getting Help\n",
    "Jupyter Notebooks and the ipython shell offer a very simple way to get help. When working in the Notebook shell you are never really on your own. \n",
    "\n",
    "To pull up the help file for a given command, simply prepend that command with a question mark. \n",
    "\n",
    "The helpfile for a python object is called it's ''docstring'' and it will open when you run a cell with an object prepended by a question mark. More detailed information is available using the 'help' function. "
   ]
  },
  {
   "cell_type": "code",
   "execution_count": null,
   "metadata": {},
   "outputs": [],
   "source": [
    "? sum"
   ]
  },
  {
   "cell_type": "code",
   "execution_count": null,
   "metadata": {},
   "outputs": [],
   "source": [
    "help()"
   ]
  },
  {
   "cell_type": "code",
   "execution_count": null,
   "metadata": {},
   "outputs": [],
   "source": [
    "help(sum)"
   ]
  },
  {
   "cell_type": "markdown",
   "metadata": {},
   "source": [
    "## Lists\n",
    "\n",
    "We will introduce numpy by way of regular python lists. This makes many of the advantages of using numpy over regular lists more immediately apparent.\n",
    "\n",
    "You can group variables together into a single object called a list. Lists are very important tools for handling data. For instance, using a list makes it simple to pass large amounts of data between programs with a single variable name. To retrieve a particular value from a list you must reference it's numerical position in the list, it's index, using square brackets. Note, in python the first element of a list is indexed at zero and the second at one, etc... the last element is then indexed at the size of the list minus 1."
   ]
  },
  {
   "cell_type": "code",
   "execution_count": null,
   "metadata": {},
   "outputs": [],
   "source": [
    "mylist = [1, 86, 32, 134, 12, 10]\n",
    "\n",
    "print(\"Full list:\",mylist)\n",
    "print(\"First value in list:\", mylist[0])\n",
    "print(\"Second value in list:\", mylist[1])"
   ]
  },
  {
   "cell_type": "markdown",
   "metadata": {},
   "source": [
    "Python also has more advanced indexing abilities. To index a list starting from the end, use `-1`. \n",
    "The colon notation can also be used to efficiently select "
   ]
  },
  {
   "cell_type": "code",
   "execution_count": null,
   "metadata": {},
   "outputs": [],
   "source": [
    "print(\"Last value in list:\", mylist[-1])"
   ]
  },
  {
   "cell_type": "markdown",
   "metadata": {},
   "source": [
    "To index a range of data, use a colon. i.e. `mylist[\\< start_index \\>:\\< stop_index \\>]`. Note that python uses `n-1` notation so that the `\\< stop_index \\>` is exclusive"
   ]
  },
  {
   "cell_type": "code",
   "execution_count": null,
   "metadata": {},
   "outputs": [],
   "source": [
    "print(mylist[1:3])\n",
    "print(mylist[2:-1])\n",
    "print(mylist[2:]) # because the stop_index is exclusive, it must be omitted to index to the end of the list"
   ]
  },
  {
   "cell_type": "markdown",
   "metadata": {},
   "source": [
    "It is also easy to select all values of a list with an index that is an integer multiple of a given step size using the notation:\n",
    "\n",
    "`mylist[\\< start_index \\>:\\< stop_index \\>:\\< step_size \\>]`\n",
    "\n",
    "i.e. to select every 2nd element of mylist use"
   ]
  },
  {
   "cell_type": "code",
   "execution_count": null,
   "metadata": {},
   "outputs": [],
   "source": [
    "print(mylist[0::2])"
   ]
  },
  {
   "cell_type": "markdown",
   "metadata": {},
   "source": [
    "There are several useful functions that operate on or create lists:  \n",
    "* `len` returns the length of the list  \n",
    "* `max` returns the maximum value in the list  \n",
    "* `min` returns the smallest value in the list  \n",
    "* `sorted` sorts a list  \n",
    "* `range` creates a range of data  "
   ]
  },
  {
   "cell_type": "code",
   "execution_count": null,
   "metadata": {},
   "outputs": [],
   "source": [
    "print('List length: ', len(mylist))\n",
    "print('List max: ', max(mylist))\n",
    "print('List min: ', min(mylist))\n",
    "print('Sorted: ', sorted(mylist))"
   ]
  },
  {
   "cell_type": "markdown",
   "metadata": {},
   "source": [
    "Also arithmetic operators might work differently than you expect. Take a look at the cell below. What do you expect the output to be? Now run the cell, are you surprised by the output?"
   ]
  },
  {
   "cell_type": "code",
   "execution_count": null,
   "metadata": {},
   "outputs": [],
   "source": [
    "a = mylist+[1,2]\n",
    "b = mylist*2\n",
    "\n",
    "print(a)\n",
    "print(b)"
   ]
  },
  {
   "cell_type": "markdown",
   "metadata": {},
   "source": [
    "This strange behavior of lists can be very useful in some cases, but can make numerical work using lists tricky. i.e. to multiply each element of a list by a common factor, we have to actually multiply each element independently. This seems, and in many cases is, very cumbersome. Below we will indroduce a new more intuitive an powerful type of list called a numpy array. Numpy arrays are extremely useful objects for numerical computing and will be used much more extensively than lists in PHYS 1600.\n",
    "\n",
    "Try multiplying a list by itself. Does it work?"
   ]
  },
  {
   "cell_type": "code",
   "execution_count": null,
   "metadata": {},
   "outputs": [],
   "source": []
  },
  {
   "cell_type": "markdown",
   "metadata": {},
   "source": [
    "<a id='E1'></a>\n",
    "### Exercise 1\n",
    "Below is the code to generate a list of 10 random numbers between 0 and 999. First, using the functions `min` and `max`, find the largest and smallest values of the list.\n",
    "\n",
    "Second, using the `sorted` command and list indexing, find the same two (largest and smallest) values. *Remember, you can always prepend a \"?\" to figure out how to use any command*.\n",
    "\n",
    "\n",
    "Finally, create a new list containing only the *odd index** values of the first list. You should be able to do this without any loops and in one line of code/\n"
   ]
  },
  {
   "cell_type": "code",
   "execution_count": null,
   "metadata": {},
   "outputs": [],
   "source": [
    "import random \n",
    "#this command loads a new module, we will talk about this below\n",
    "\n",
    "randomlist = random.sample(range(1000),10)\n",
    "#random.sample() is a function from the random package\n",
    "#it takes two arguments\n",
    "#first is a list from which values are sampled\n",
    "#second is how many values are sampled from this list\n",
    "\n",
    "print(randomlist)"
   ]
  },
  {
   "cell_type": "code",
   "execution_count": null,
   "metadata": {},
   "outputs": [],
   "source": []
  },
  {
   "cell_type": "markdown",
   "metadata": {},
   "source": [
    "# NumPy Basics: Numerical Tools for Python\n",
    "\n",
    "In addition to Python's many useful default functions, there are extra toolboxes (called modules) full of useful functions and variable types. In science and engineering we are usually analyzing numerical data and there is a helpful python module for numerical analysis called **NumPy**. We also spend a lot of time creating plots of our data, the most commonly used python module for plotting is called **matplotlib**. We will first introduce numpy and then matplotlib.\n",
    "\n",
    "\n",
    "The numpy module contains many functions for loading, manipulating, and analyzing simulation data as arrays, vectors, and matrices.\n",
    "\n",
    "In order to get started we need to **load up the numpy module**. We do this executing the cell below."
   ]
  },
  {
   "cell_type": "code",
   "execution_count": null,
   "metadata": {},
   "outputs": [],
   "source": [
    "import numpy as np\n",
    "# the part \"as np\" just assigns np as an alias to numpy, you could replace np with almost anything, \n",
    "# or just omit and use: import numpy\n",
    "# but then your would have to type numpy all the time!"
   ]
  },
  {
   "cell_type": "markdown",
   "metadata": {},
   "source": [
    "This command imported the numpy module and gave it the shorter nick-name \"**np**\". Python has a huge number of modules to help with pretty much any task you can think of. It is also possible to write your own custom modules (or customize existing ones). Much of the power of Python comes from the functionality contained in modules and most of your programs will have some sort of import statement at the top. We will spend some more time on `import` statements in lecture 2."
   ]
  },
  {
   "cell_type": "markdown",
   "metadata": {},
   "source": [
    "Once we have run the `import` command in the cell above, we can use any of numpy's various functions by typing:\n",
    "\n",
    "`np.function_name(function_argument)`\n",
    "\n",
    "For example, numpy has a bunch of extra mathematical functions not included in the base Python:"
   ]
  },
  {
   "cell_type": "code",
   "execution_count": null,
   "metadata": {},
   "outputs": [],
   "source": [
    "x = np.sin(.3)\n",
    "y = np.cos(0.5)\n",
    "z = np.arctan(.8)\n",
    "print(x,y,z)"
   ]
  },
  {
   "cell_type": "markdown",
   "metadata": {},
   "source": [
    "You probably recognize the `sin`, `cos`, and `arctan` functions. Numpy also contains most other common mathematical functions: `np.log()`, `np.exp()`, etc. In a Jupyter Notebook you can see all the different tools numpy has by typing `np.` in a code cell and pressing tab to pull up a list of possibilities. You can also learn much more about NumPy on the website: http://docs.scipy.org/doc/numpy/. I recommend you read this at some time"
   ]
  },
  {
   "cell_type": "markdown",
   "metadata": {},
   "source": [
    "## Defining Numpy Arrays"
   ]
  },
  {
   "cell_type": "markdown",
   "metadata": {},
   "source": [
    "The main functionality in Numpy is it's ability to work on vectors and matrices of numbers, the vectors and matrices are called NumPy arrays. NumPy array's are similar to lists, but are specifically designed for working with numbers and have lots of extra tools built into analyze data. NumPy array's are especially useful for dealing with multidimensional datasets. \n",
    "\n",
    "There are several NumPy functions that can be used to create NumPy arrays and converting python lists into NumPy arrays. Here are some useful examples."
   ]
  },
  {
   "cell_type": "markdown",
   "metadata": {},
   "source": [
    "`np.array()` converts a python list into a NumPy array:"
   ]
  },
  {
   "cell_type": "code",
   "execution_count": null,
   "metadata": {},
   "outputs": [],
   "source": [
    "# Here is a list of numbers\n",
    "alist = [2,31,5,6,3]\n",
    "print(alist)\n",
    "\n",
    "# np.array converts it to a numpy array\n",
    "np.array(alist)"
   ]
  },
  {
   "cell_type": "markdown",
   "metadata": {},
   "source": [
    "If you have a list of lists, `np.array` will make it a multidimensional array:"
   ]
  },
  {
   "cell_type": "code",
   "execution_count": null,
   "metadata": {},
   "outputs": [],
   "source": [
    "mylist = [[1,2],[3,4]]\n",
    "myarray = np.array(mylist)\n",
    "myarray"
   ]
  },
  {
   "cell_type": "markdown",
   "metadata": {},
   "source": [
    "We will discuss multidimensional arrays much  more in the future."
   ]
  },
  {
   "cell_type": "markdown",
   "metadata": {},
   "source": [
    "Additionally, other functions exist that create a numpy array. `np.arange()` can be used to compute an array of integers. Its syntax is `np.arange(start,stop,interval)`. *Note that in python the `stop` index is not included.*"
   ]
  },
  {
   "cell_type": "code",
   "execution_count": null,
   "metadata": {},
   "outputs": [],
   "source": [
    "# First ten integers, starting from 0\n",
    "a = np.arange(10)\n",
    "\n",
    "# Integers starting from 2 until 8\n",
    "b = np.arange(2,9)\n",
    "\n",
    "# Integers starting from 100, going until 15, steps of  -5\n",
    "c = np.arange(100,10,-5)\n",
    "\n",
    "print(a)\n",
    "print(b)\n",
    "print(c)"
   ]
  },
  {
   "cell_type": "markdown",
   "metadata": {},
   "source": [
    "<a id='E2'></a>\n",
    "### Exercise 2\n",
    "\n",
    "1. Read the helpfile for the function `np.ones`. Use this function to create an new numpy array with 10 ones.\n",
    "2. Multiply your array by a constant. Does this operation behave how you expect?\n",
    "3. Add a constant value to your array. Does this operation do what you expect?\n",
    "4. Using `np.arange` generate a new array with the same size as the array from part 1. Add these two arrays together.\n",
    "4. Now multiply the two arrays. "
   ]
  },
  {
   "cell_type": "code",
   "execution_count": null,
   "metadata": {},
   "outputs": [],
   "source": []
  },
  {
   "cell_type": "markdown",
   "metadata": {},
   "source": [
    "Numpy functions can operate on arrays element-by-element. So with numpy arrays there is no need to write loops!\n",
    "\n",
    "For example:"
   ]
  },
  {
   "cell_type": "code",
   "execution_count": null,
   "metadata": {},
   "outputs": [],
   "source": [
    "x = np.arange(0,1,0.25)*2*np.pi\n",
    "fx = np.sin(x)\n",
    "print(fx)\n"
   ]
  },
  {
   "cell_type": "markdown",
   "metadata": {},
   "source": [
    "## Loading Data Files into Numpy Arrays"
   ]
  },
  {
   "cell_type": "markdown",
   "metadata": {},
   "source": [
    "Most of the time when we run experiments, some kind of data is output into text files. Most commonly this is contains numeric data values, separated from each other by comma's, a CSV file; however, the data could also be separated in many other ways e.g. tab delimited, space delimited, etc ... . It could even be stored as a more complex data type, for example hdf5 is a common format for storing modern scientific data.  Python has tools to easily handle all of these. \n",
    "\n",
    "If we would like to analyze our experimental results with python, then first we need to import the data from the text files. Luckily, numpy has several useful functions to do this, including `np.loadtxt`.\n",
    "\n",
    "For simple text files of data arranged in columns, you can use the `np.loadtxt` function to load the data file. The text file named *data* contains three columns of numbers from some simulated experimental data. Lets use `np.loadtxt` to load this data so it can be manipulated with python. The function has a single required argument: a string with the location of the file you want it to read."
   ]
  },
  {
   "cell_type": "code",
   "execution_count": null,
   "metadata": {},
   "outputs": [],
   "source": [
    "#This string is the location of my data file\n",
    "#Replace it with the location of your data file\n",
    "filepath = './DataFile.txt' \n",
    "\n",
    "#if you are having trouble finding your working directory\n",
    "#uncomment the following two lines and they should tell you where you are on your computer\n",
    "#import os\n",
    "#print(os.getcwd())\n",
    "#Note!!! All slashes need to be / NOT \\\n",
    "#If you are Windows be sure to change them\n",
    "\n",
    "np.loadtxt(filepath)\n",
    "\n"
   ]
  },
  {
   "cell_type": "markdown",
   "metadata": {},
   "source": [
    "You can see that `loadtxt` loaded the data into Python and returned it as output. The file is really long, so NumPy knows not to show the entire dataset, but instead to only show the first three rows and the last three rows.\n",
    "\n",
    "When we loaded the text, we never saved it to an object we can work with. We only printed it. So now let's do that again, but assign the data to a variable **D**."
   ]
  },
  {
   "cell_type": "code",
   "execution_count": null,
   "metadata": {},
   "outputs": [],
   "source": [
    "D = np.loadtxt(filepath)"
   ]
  },
  {
   "cell_type": "markdown",
   "metadata": {},
   "source": [
    "The data in **D** is stored as a NumPy Array. `loadtxt` has many optional arguments that can help you deal with more complex data files. Read the helpfile on `np.loadtxt` to learn more.\n",
    "\n",
    "\n",
    "\n",
    "That was very easy ! This is because the data file I have created for this workshop is formatted exactly how loadtxt would like it to be. But sometimes your data files are formatted differently. Luckily, `loadtxt` is a very sophisticated function and has many options for dealing with differently formated data. Run `help(np.loadtxt)` in a new cell to learn about these options. "
   ]
  },
  {
   "cell_type": "markdown",
   "metadata": {},
   "source": [
    "## Indexing NumPy Arrays\n",
    "\n",
    "Lets start by learning more about the data stored in **D**.\n",
    "\n",
    "We can use the function `np.shape` to find out the shape of our data array"
   ]
  },
  {
   "cell_type": "code",
   "execution_count": null,
   "metadata": {},
   "outputs": [],
   "source": [
    "np.shape(D)"
   ]
  },
  {
   "cell_type": "markdown",
   "metadata": {},
   "source": [
    "Shape says the data we've imported has 1000 rows and 3 columns. Open up your text file in your favorite text editor and see if that looks right to you.\n"
   ]
  },
  {
   "cell_type": "markdown",
   "metadata": {},
   "source": [
    "You can access individual data values in a numpy array by indexing it, similar to how you index a list. However, numpy arrays are usually multidimensional (rows, columns, etc), so they require multidimension indexing. This involves specifiying an index for each dimension of your array. Our data array **D** is two dimensional. It has 1000 rows and 3 columns. Below are some examples indexing **D**."
   ]
  },
  {
   "cell_type": "code",
   "execution_count": null,
   "metadata": {},
   "outputs": [],
   "source": [
    "# To index the nth row in the mth column we use the notation D[n,m]\n",
    "# So for instance, the number in the first row of the first column is \n",
    "a = D[0,0]\n",
    "\n",
    "# The number in the first row of the third column is\n",
    "b = D[0,2]\n",
    "\n",
    "# The number in the 1000 row and second column is\n",
    "c = D[999,1]\n",
    "\n",
    "print(a, b, c)"
   ]
  },
  {
   "cell_type": "markdown",
   "metadata": {},
   "source": [
    "You can use `:` to select ranges of data (note, the `:` notation also works for regular Python lists)\n",
    "\n",
    "The colon syntax is `[first:last]`.\n",
    "* `first` specifies the beginning of the range you want to copy. If `first` isn't specified, the beginning of that dimension is used.\n",
    "* `last` specifies the end of the range you want to copy. The number with index `last` is not included. If `last` isn't specified, the end of that dimension is used.\n",
    "* A bare `:` will take all the data in that dimension\n",
    "\n",
    "Below are some examples."
   ]
  },
  {
   "cell_type": "code",
   "execution_count": null,
   "metadata": {},
   "outputs": [],
   "source": [
    "# All the columns of the first row\n",
    "a = D[0,:]\n",
    "\n",
    "# All the rows of the 3rd column\n",
    "b = D[:,2]\n",
    "\n",
    "# The first 5 rows of the second column\n",
    "c = D[:5,1]\n",
    "\n",
    "print(\"a = \", a)\n",
    "print(\"b = \", b)\n",
    "print(\"c = \", c)"
   ]
  },
  {
   "cell_type": "markdown",
   "metadata": {},
   "source": [
    "<a id='E3'></a>\n",
    "### Exercise 3\n",
    "\n",
    "Each column of the numpy array **D** is a variable from the data set you loaded. Use array indexing to store each column of **D** in its own variable.\n",
    "\n",
    "* Store all the rows of the first column of **D** in a variable named **Dx**\n",
    "* Store all the rows of the second column in a variable named **Dy**\n",
    "* store all the rows of the third column in a variable named **Derr**"
   ]
  },
  {
   "cell_type": "code",
   "execution_count": null,
   "metadata": {},
   "outputs": [],
   "source": [
    "Dx = D[:,0]\n",
    "Dy = D[:,1]\n",
    "Derr = D[:,2]"
   ]
  },
  {
   "cell_type": "markdown",
   "metadata": {},
   "source": [
    "## Array functions\n",
    "\n",
    "Common mathematical operations work differently on NumPy arrays than they would on a normal Python list. Operations like addition and multiplication work element-wise mathematically, for example:"
   ]
  },
  {
   "cell_type": "code",
   "execution_count": null,
   "metadata": {},
   "outputs": [],
   "source": [
    "array = np.array([1,2,3,4])\n",
    "\n",
    "print(array*2)\n",
    "print(array+2)"
   ]
  },
  {
   "cell_type": "markdown",
   "metadata": {},
   "source": [
    "NumPy also has a bunch of functions already implemented that operate on a NumPy array. For example, the **np.min** and **np.max** functions will give the smallest and largest values in the array."
   ]
  },
  {
   "cell_type": "code",
   "execution_count": null,
   "metadata": {},
   "outputs": [],
   "source": [
    "timestep = D[:,0]\n",
    "\n",
    "mymin = np.min(timestep)\n",
    "mymax = np.max(timestep)\n",
    "\n",
    "print(\"Min:\", mymin)\n",
    "print(\"Max:\", mymax)"
   ]
  },
  {
   "cell_type": "markdown",
   "metadata": {},
   "source": [
    "#### Some usefull functions for statistical analysis\n",
    "\n",
    "Numpy has many more array functions for data analysis. An especially useful set compute basic statistics:\n",
    "\n",
    " * `np.mean()` computes the mean of numerical data\n",
    " * `np.std()` computes the standard deviation\n",
    " * `np.var()` computes the variance\n",
    "\n",
    "All these functions work similarly to `np.min` and `np.max`. "
   ]
  },
  {
   "cell_type": "markdown",
   "metadata": {},
   "source": [
    "<a id='E4'></a>\n",
    "### Exercise 4\n",
    "Generate a numpy array any way you like. Get some practice using array functions. \n",
    "\n",
    " 1. Use `np.mean` to compute the mean Y and save it as the variable **Ymean**\n",
    " 2. Compute an array of all the Y values squared, save this as Ysq       (remember, Python calculates powers with the notation **\\*\\***)\n",
    " 3. Calculate the mean of `Ysq`, save it as **Ymnsq**\n",
    " 4. Calculate the variance with the equation: **Ymnsq - Ymean<sup>2</sup>**\n",
    " 5. Compare the result to that calculated with the `np.var` function "
   ]
  },
  {
   "cell_type": "code",
   "execution_count": null,
   "metadata": {},
   "outputs": [],
   "source": []
  },
  {
   "cell_type": "markdown",
   "metadata": {},
   "source": [
    "# Basics of MatPlotLib: Plotting\n",
    "___\n",
    "\n",
    "We've learned some basic tools for importing and manipulating numerical data with Numpy. Next we will learn how to plot and visualize data. The plotting tools we will use are part of a python module called MatPlotLib, short for MatLab Plot Library, since most of its tools and capabilities are based off of plotting with the program MatLab. You can learn much more about MatPlotLib here: http://matplotlib.org/.\n",
    "\n",
    "\n",
    "In order to get started, we need to import the plotting tools from the MatPlotLib module and also tell our Jupyter Notebook how we want it to make plots. We'll need to run the two commands in the next cell:"
   ]
  },
  {
   "cell_type": "code",
   "execution_count": null,
   "metadata": {},
   "outputs": [],
   "source": [
    "# this is a special operation called a 'magic function', there are many different magic functions\n",
    "# this one gives us interactive plots in the Jupyter Notebook.\n",
    "%matplotlib notebook\n",
    "import matplotlib.pyplot as plt\n"
   ]
  },
  {
   "cell_type": "markdown",
   "metadata": {},
   "source": [
    "The first command imports the MatPlotLib plotting tools and gives the module the alias `plt` \n",
    "\n",
    "\n",
    "***Note***: `plt` is the standard nickname people use for the MatPlotLib plotting tools. Many modules have community-created standard nicknames like `np` for numpy or `plt` for matplotlib.pylab. You don't have to use these nicknames, anything you like will do. You could for instance import numpy as \"tomato\" and type `tomato.loadtxt()` to call the `loadtxt` function. However, using the standard names is recommended and will help others in the community understand your code. \n",
    "\n",
    "The second command tells the Jupyter notebook that when we use a plotting command, the Notebook should visualize the plots right inside our notebook. Jupyter has other plot visualization settings, but we will stick with these for now."
   ]
  },
  {
   "cell_type": "markdown",
   "metadata": {},
   "source": [
    "## Plotting Data With the *plt.plot()* Function\n",
    "\n",
    "The workhorse function of MatPlotLib is the `plot()` function that you can call as `plt.plot()`. You can enter it just like that, with no arguments and it will generate an empty plot:"
   ]
  },
  {
   "cell_type": "code",
   "execution_count": null,
   "metadata": {},
   "outputs": [],
   "source": [
    "plt.plot()"
   ]
  },
  {
   "cell_type": "markdown",
   "metadata": {},
   "source": [
    "It is better to have a bit more control over the shape and style of figure. To do this we will create our figure, axis, and plot objects separately. \n",
    "\n",
    "1. First, we create the figure. This is the outer container.\n",
    "2. Second, we add our axis to the figure.\n",
    "3. Finally, we add our plots to the axis."
   ]
  },
  {
   "cell_type": "code",
   "execution_count": null,
   "metadata": {},
   "outputs": [],
   "source": [
    "\n",
    "# create the figure object of specified size, we assigned this to the variable 'fig', but it is just a name\n",
    "# we can call it whatever we want\n",
    "# here we give the figure a size of 4 x 4 inches. \n",
    "# Pro-tip: for high quality figures, generate the figure in the actual size it will be presented in,\n",
    "# this way you will not have to worry about fonts or other features scaling properly\n",
    "\n",
    "fig = plt.figure(figsize = [4,4])  \n",
    "\n",
    "# this is a simple way to add an axis to the figure, read the helpfile on subplot to learn more\n",
    "# we assigned the axis object to the variable name 'ax', but again, this could be any name we like\n",
    "ax = fig.add_subplot(111)   \n",
    "\n",
    "# Finally, we create the plot, we don't have to assign this to any name becuase we will just want to look at the output\n",
    "# but you can, and it is good practice to assign the output to a name\n",
    "\n",
    "myplot = ax.plot()  # add our plot to the axis"
   ]
  },
  {
   "cell_type": "markdown",
   "metadata": {},
   "source": [
    "We can plot data by giving the function x and y data as arguements: `plt.plot(xdata, ydata)`\n",
    "\n",
    "The x and y data can be python lists or numpy arrays."
   ]
  },
  {
   "cell_type": "code",
   "execution_count": null,
   "metadata": {},
   "outputs": [],
   "source": [
    "# Make and plot some x,y data as python lists:\n",
    "x1 = [0,1,2,3,4,5,6]\n",
    "y1 = [0,2,0,6,3,9,12]\n",
    "\n",
    "fig = plt.figure() # just use default size\n",
    "ax = fig.add_subplot(111)\n",
    "\n",
    "ax.plot(x1,y1)\n",
    "\n",
    "#Make a numpy array of x values from 0 to 6 with spacings of 0.1\n",
    "x2 = np.arange(0,6, 0.1)\n",
    "#Compute y data as the sin of the x data\n",
    "y2 = np.sin(x2)*3 + 4\n",
    "\n",
    "# add a second plot to the same axis\n",
    "ax.plot(x2,y2)\n",
    "plt.show()"
   ]
  },
  {
   "cell_type": "markdown",
   "metadata": {},
   "source": [
    "Notice that both plot commands were plotted on the same figure."
   ]
  },
  {
   "cell_type": "markdown",
   "metadata": {},
   "source": [
    "## Adding Text to the Plot"
   ]
  },
  {
   "cell_type": "markdown",
   "metadata": {},
   "source": [
    "You can add a legend by using the `plt.legend()` function. Before you add a legend, you need to make sure you give each of the curves you've plotted *labels*. You give your curves labels by using the *label* keyword in the `plt.plot()` function. For instance:"
   ]
  },
  {
   "cell_type": "code",
   "execution_count": null,
   "metadata": {},
   "outputs": [],
   "source": [
    "#Plot data\n",
    "fig = plt.figure()\n",
    "ax = fig.add_subplot(111)\n",
    "\n",
    "ax.plot(x1,y1,label='Random values')\n",
    "ax.plot(x2,y2,label='Sin(x)')\n",
    "ax.legend()"
   ]
  },
  {
   "cell_type": "markdown",
   "metadata": {},
   "source": [
    "You can change the font size of the legend by using the *fontsize* keyword in `plt.legend()`, e.g., `plt.legend(fontsize = 20)`.\n",
    "\n",
    "You can add axis labels and a title to the plot with: `plt.xlabel()`, `plt.ylabel()`, and `plt.title()` (and can use the **fontsize** keyword to adjust the font size)"
   ]
  },
  {
   "cell_type": "code",
   "execution_count": null,
   "metadata": {},
   "outputs": [],
   "source": [
    "#Plot data\n",
    "fig = plt.figure()\n",
    "ax = fig.add_subplot(111\n",
    "                    )\n",
    "ax.plot(x1,y1,label='Random values')\n",
    "ax.plot(x2,y2,label='Sin(x)')\n",
    "ax.legend()\n",
    "ax.set_xlabel('My x-axis label')\n",
    "ax.set_ylabel('My y-axis label')\n",
    "ax.set_title('My Figure Title', fontsize = 20)"
   ]
  },
  {
   "cell_type": "markdown",
   "metadata": {},
   "source": [
    "## Saving Figures"
   ]
  },
  {
   "cell_type": "markdown",
   "metadata": {},
   "source": [
    "You can save your figure to a file using the `plt.savefig()` function. The arguement of the function is the name of the file you want it to save your plot to. MatPlotLib can recognize most common file formats like .png, .jpeg, .pdf.\n",
    "\n",
    "    plt.savefig('my_first_plot.png')"
   ]
  },
  {
   "cell_type": "code",
   "execution_count": null,
   "metadata": {},
   "outputs": [],
   "source": [
    "fig.savefig('myplot.jpeg')  # we want to save the entire figure, so call fig.savefig"
   ]
  },
  {
   "cell_type": "markdown",
   "metadata": {},
   "source": [
    "After running the cell above, look in your current working directory for the file 'myplot.jpeg'."
   ]
  },
  {
   "cell_type": "markdown",
   "metadata": {},
   "source": [
    "# Extra Plot Customization Tools\n",
    "\n",
    "## Modifying Curve Attributes\n",
    "You can pass many different optional keywords to the plot function to modify how your data is visualized. These keywords can change the color, thickness,transparency, order, and shape of curves and symbols, as well as many other things. The syntax for passing optional arguements is:\n",
    "```Python\n",
    "plt.plot(xdata,ydata,keyword = value,another_keyword = value,...)\n",
    "```\n",
    "\n",
    "Here are some commonly used keywords:\n",
    "\n",
    "* **color** = 'black', 'blue', 'red', etc\n",
    "* **linewidth** = a number\n",
    "* **linestyle** = 'none', ‘solid’, ‘dashed’, ‘dashdot’, ‘dotted’\n",
    "* **marker** = 'o', 'v', '^', '.', 's', etc \n",
    "* **markersize** = a number\n",
    "* **markerfacecolor**\n",
    "* **label** = 'Data Name'  (This name appears in the plots legend)\n",
    "\n",
    "Here are some examples:"
   ]
  },
  {
   "cell_type": "code",
   "execution_count": null,
   "metadata": {},
   "outputs": [],
   "source": [
    "# Use np.linspace to generate x data from 0 to 4*pi\n",
    "x = np.arange(0,4*np.pi,0.4)\n",
    "\n",
    "#Generate a few different sets of y data\n",
    "y1 = np.sin(x)\n",
    "y2 = 0.8*np.cos(x)\n",
    "y3 = 2-0.2*x\n",
    "\n",
    "\n",
    "fig = plt.figure()\n",
    "ax = fig.add_subplot(111)\n",
    "\n",
    "#A solid, black line with red, circular markers.\n",
    "ax.plot(x,y1,color='black',linestyle='solid',marker='o',markerfacecolor='red')\n",
    "#A thick dot-dashed, magenta line with no markers \n",
    "ax.plot(x,y2,color='magenta',linewidth=2,linestyle='dashdot')\n",
    "# Green, downward pointing triangles with no line connecting them\n",
    "ax.plot(x,y3,marker='v',color='green',linestyle='none')"
   ]
  },
  {
   "cell_type": "markdown",
   "metadata": {},
   "source": [
    "## Modifying Plot Attributes\n",
    "\n",
    "In addition to using the **plt.plot()** function to add data to our plot, there are several other useful functions that we can use to modify the plots attributes. Here is how you can adjust the most commonly modified plot properties:\n",
    "\n",
    "### Adjusting the x and y limits of the plot\n",
    "\n",
    "To adjust limits use the **plt.xlim()** and **plt.ylim()** functions. The functions take two arguements, the upper and lower bounds of the plot: \n",
    "\n",
    "    plt.xlim(xlo,xhi)\n",
    "    plt.ylim(ylo,yhi)\n",
    "\n",
    "where xlo and xhi are both numbers."
   ]
  },
  {
   "cell_type": "code",
   "execution_count": null,
   "metadata": {},
   "outputs": [],
   "source": [
    "#plot the data\n",
    "fig = plt.figure()\n",
    "ax = fig.add_subplot(111)\n",
    "\n",
    "ax.plot(x,y1,color='black',linewidth=3,linestyle='solid',marker='o',markersize=6, markerfacecolor='red')\n",
    "#adjust x and y range\n",
    "ax.set_xlim(0,4)\n",
    "ax.set_ylim(-0.2,1.1)"
   ]
  },
  {
   "cell_type": "markdown",
   "metadata": {},
   "source": [
    "## Legend Customization\n",
    "You can also change the location of the legend by using the *loc* keyword. Here is the syntax:\n",
    "\n",
    "    plt.legend(loc = 0 or 1 or 2 or 3 or 4 or ..., fontsize = 18 or another number) \n",
    "    \n",
    "The location of the legend will move depending on which number you assign to the *loc* keyword. Try changing the location of the legend int he plot below."
   ]
  },
  {
   "cell_type": "code",
   "execution_count": null,
   "metadata": {},
   "outputs": [],
   "source": [
    "#Plot data\n",
    "y1 = 1- 2*np.random.rand(len(x))\n",
    "\n",
    "fig = plt.figure()\n",
    "ax = fig.add_subplot(111)\n",
    "ax.plot(x,y1,label='Random values')\n",
    "ax.plot(x,y2,label='Sin(x)')\n",
    "ax.legend(loc = 2,fontsize = 3)  # make the legent waaaay to small to read"
   ]
  },
  {
   "cell_type": "markdown",
   "metadata": {},
   "source": [
    "<a id='E5'></a>\n",
    "### Exercise 5\n",
    "\n",
    "Read the helpfile on the function `plt.errorbar` and use it to generate a plot using the data from [Exercise 3](#E3). Include axis labels and try playing around with the plot formatting. Then save the plot as a pdf or png file to include in your report."
   ]
  },
  {
   "cell_type": "code",
   "execution_count": null,
   "metadata": {},
   "outputs": [],
   "source": [
    "fig = plt.figure()\n",
    "ax = fig.add_subplot(111)\n",
    "\n",
    "ax.errorbar(Dx,Dy, Derr, marker = '.', ls = 'None')\n",
    "ax.set_xlabel('time (s)')\n",
    "ax.set_ylabel('counts')"
   ]
  },
  {
   "cell_type": "markdown",
   "metadata": {},
   "source": [
    "<a id='E6'></a>\n",
    "# Basic Curve Fitting\n",
    "___\n",
    "\n",
    "The data we have loaded in looks like it might be described by some sort of exponential decay. So we could guess that the function:\n",
    "$$\n",
    "y(t) = e^{-t/\\tau}\n",
    "$$\n",
    "But how can we show it? Furthermore, is there a way to extract the time constant $\\tau$ from the data?\n"
   ]
  },
  {
   "cell_type": "code",
   "execution_count": null,
   "metadata": {},
   "outputs": [],
   "source": [
    "from scipy.optimize import least_squares"
   ]
  },
  {
   "cell_type": "code",
   "execution_count": null,
   "metadata": {},
   "outputs": [],
   "source": [
    "help(least_squares)"
   ]
  },
  {
   "cell_type": "code",
   "execution_count": null,
   "metadata": {},
   "outputs": [],
   "source": [
    "\n",
    "# We define our residuals function\n",
    "\n",
    "def Residuals(params,x,data,err):\n",
    "    # need to input Q and data \n",
    "    \n",
    "    # note the asterisk in front of params, this notation allows us to pass a\n",
    "    # variable number of arguments \n",
    "    # the asterisk also has many other special uses that you can look up, for example\n",
    "    # unpacking container objects \n",
    "    \n",
    "    model = fit_function(x, *params)\n",
    "    \n",
    "    # return the error weighted residuals\n",
    "    R = (data - model)/err\n",
    "    return R\n",
    "\n",
    "\n",
    "# define the function we want to fit\n",
    "def fit_function(x,a,b):\n",
    "    return a*x + b\n",
    "\n",
    "\n",
    "# initial parameter guess\n",
    "p_guess = [-1,10]\n",
    "\n",
    "# run the least squares minimization routine \n",
    "results = least_squares(Residuals, p_guess, verbose = 2, args = (Dx, np.log(Dy), Derr/Dy))\n",
    "\n",
    "print(\"\\n**********************************\")\n",
    "print(\"Result of the fit: \")\n",
    "print(\"a:\", results.x[0], \"b:\", results.x[1])\n",
    "print(\"**********************************\")"
   ]
  },
  {
   "cell_type": "code",
   "execution_count": null,
   "metadata": {},
   "outputs": [],
   "source": [
    "# plot the data and the fit together\n",
    "\n",
    "fig = plt.figure()\n",
    "ax = fig.add_subplot(111)\n",
    "\n",
    "ax.errorbar(Dx,np.log(Dy), Derr/Dy, marker = '.', ls = 'None', label = 'Data')\n",
    "\n",
    "# plot the fit, least_squares returns the fit paramters in results.x\n",
    "# note the use of the asteriks here\n",
    "\n",
    "ax.plot(Dx,fit_function(Dx,*results.x), lw =2, label = 'fit')\n",
    "ax.set_xlabel('time (s)')\n",
    "ax.set_ylabel('counts')\n",
    "ax.set_ylim([0,3])\n",
    "ax.legend()"
   ]
  },
  {
   "cell_type": "markdown",
   "metadata": {},
   "source": [
    "The fit does not look so great. It looks like this is because data for $t > 5$ s is not described by the same decay rate as data for $t<6$. We should fit these two regions separately. This is easy to do, we simply slice up the data using numpy array tools:"
   ]
  },
  {
   "cell_type": "code",
   "execution_count": null,
   "metadata": {},
   "outputs": [],
   "source": [
    "# find the index where  t > 6\n",
    "idx = np.nonzero(Dx >= 6)[0][0]\n",
    "\n",
    "# create new data that includes only the points for t < 5\n",
    "\n",
    "Dx_new = Dx[0:idx]\n",
    "Dy_new = Dy[0:idx]\n",
    "Derr_new = Derr[0:idx]\n",
    "\n",
    "# Now fit\n",
    "results = least_squares(Residuals, p_guess, verbose = 2, args = (Dx_new, np.log(Dy_new), Derr_new/Dy_new))\n",
    "\n",
    "print(\"\\n**********************************\")\n",
    "print(\"Result of the fit: \")\n",
    "print(\"a:\", results.x[0], \"b:\", results.x[1])\n",
    "print(\"**********************************\")\n",
    "\n",
    "# and plot\n",
    "fig = plt.figure()\n",
    "ax = fig.add_subplot(111)\n",
    "\n",
    "ax.errorbar(Dx,np.log(Dy), Derr/Dy, marker = '.', ls = 'None', label = 'Data')\n",
    "ax.plot(Dx,fit_function(Dx,*results.x), lw =2, label = 'fit, t < 6 s', zorder = 10)\n",
    "ax.set_xlabel('time (s)')\n",
    "ax.set_ylabel('counts')\n",
    "ax.set_ylim([0,3])\n",
    "ax.legend()"
   ]
  },
  {
   "cell_type": "code",
   "execution_count": null,
   "metadata": {},
   "outputs": [],
   "source": []
  }
 ],
 "metadata": {
  "anaconda-cloud": {},
  "kernelspec": {
   "display_name": "Python 3",
   "language": "python",
   "name": "python3"
  },
  "language_info": {
   "codemirror_mode": {
    "name": "ipython",
    "version": 3
   },
   "file_extension": ".py",
   "mimetype": "text/x-python",
   "name": "python",
   "nbconvert_exporter": "python",
   "pygments_lexer": "ipython3",
   "version": "3.6.8"
  }
 },
 "nbformat": 4,
 "nbformat_minor": 2
}
